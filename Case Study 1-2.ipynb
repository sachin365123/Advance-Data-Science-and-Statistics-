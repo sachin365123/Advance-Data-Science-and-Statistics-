{
 "cells": [
  {
   "cell_type": "markdown",
   "metadata": {},
   "source": [
    "## PREDICTING WAGES\n",
    "In this segment, we will examine a real-world example, where we will predict wages of the workers using a linear combination of workers characteristics and assess the predictive performance of our prediction rules using the Mean Squared Error(MSE), adjusted MSE and r-squared as well as out-of-sample MSE and r-squared.\n",
    "\n",
    "The data comes from the March supplement of the U.S. Current Population Survey, the year 2012. It focuses on the single (never married) workers with education levels equal to high school, some college, or college graduates. The sample size is approx 4,000.\n",
    "\n",
    "The outcome variable Y is an hourly wage, and the X’s are various characteristics of workers such as gender, experience, education, and geographical indicators.\n",
    "\n",
    "## Data Dictionary\n",
    "\n",
    "The dataset contains the following variables:\n",
    "1. wage   : weekly wage\n",
    "2. female : female dummy\n",
    "3. cg     : college Graduate Dummy\n",
    "4. sc     : some college dummy\n",
    "5. hsg    : High School graduate dummy\n",
    "6. mw     : mid-west dummy\n",
    "7. so     : south dummy\n",
    "8. we     : west dummy\n",
    "9. ne     : northeast dummy\n",
    "10. exp1   : experience(year)\n",
    "11. exp2   : experience squared (taken as experience squared/100)\n",
    "12. exp3   : experience cubed (taken as experience cubed/1000)"
   ]
  },
  {
   "cell_type": "markdown",
   "metadata": {},
   "source": [
    "## Importing libraries"
   ]
  },
  {
   "cell_type": "code",
   "execution_count": 1,
   "metadata": {},
   "outputs": [],
   "source": [
    "#imporing necessary libraries\n",
    "\n",
    "import numpy as np\n",
    "import pandas as pd\n",
    "\n",
    "import warnings\n",
    "warnings.filterwarnings('ignore')"
   ]
  },
  {
   "cell_type": "code",
   "execution_count": 2,
   "metadata": {},
   "outputs": [],
   "source": [
    "# Load data\n",
    "df = pd.read_csv('predicting_wages.csv')"
   ]
  },
  {
   "cell_type": "code",
   "execution_count": 3,
   "metadata": {},
   "outputs": [
    {
     "data": {
      "text/html": [
       "<div>\n",
       "<style scoped>\n",
       "    .dataframe tbody tr th:only-of-type {\n",
       "        vertical-align: middle;\n",
       "    }\n",
       "\n",
       "    .dataframe tbody tr th {\n",
       "        vertical-align: top;\n",
       "    }\n",
       "\n",
       "    .dataframe thead th {\n",
       "        text-align: right;\n",
       "    }\n",
       "</style>\n",
       "<table border=\"1\" class=\"dataframe\">\n",
       "  <thead>\n",
       "    <tr style=\"text-align: right;\">\n",
       "      <th></th>\n",
       "      <th>female</th>\n",
       "      <th>cg</th>\n",
       "      <th>sc</th>\n",
       "      <th>hsg</th>\n",
       "      <th>mw</th>\n",
       "      <th>so</th>\n",
       "      <th>we</th>\n",
       "      <th>ne</th>\n",
       "      <th>exp1</th>\n",
       "      <th>exp2</th>\n",
       "      <th>exp3</th>\n",
       "      <th>wage</th>\n",
       "    </tr>\n",
       "  </thead>\n",
       "  <tbody>\n",
       "    <tr>\n",
       "      <th>0</th>\n",
       "      <td>0</td>\n",
       "      <td>0</td>\n",
       "      <td>0</td>\n",
       "      <td>1</td>\n",
       "      <td>0</td>\n",
       "      <td>0</td>\n",
       "      <td>0</td>\n",
       "      <td>1</td>\n",
       "      <td>33.0</td>\n",
       "      <td>10.89</td>\n",
       "      <td>35.937</td>\n",
       "      <td>11.659091</td>\n",
       "    </tr>\n",
       "    <tr>\n",
       "      <th>1</th>\n",
       "      <td>0</td>\n",
       "      <td>1</td>\n",
       "      <td>0</td>\n",
       "      <td>0</td>\n",
       "      <td>0</td>\n",
       "      <td>0</td>\n",
       "      <td>0</td>\n",
       "      <td>1</td>\n",
       "      <td>27.0</td>\n",
       "      <td>7.29</td>\n",
       "      <td>19.683</td>\n",
       "      <td>12.825000</td>\n",
       "    </tr>\n",
       "    <tr>\n",
       "      <th>2</th>\n",
       "      <td>0</td>\n",
       "      <td>0</td>\n",
       "      <td>1</td>\n",
       "      <td>0</td>\n",
       "      <td>0</td>\n",
       "      <td>0</td>\n",
       "      <td>0</td>\n",
       "      <td>1</td>\n",
       "      <td>13.0</td>\n",
       "      <td>1.69</td>\n",
       "      <td>2.197</td>\n",
       "      <td>5.777027</td>\n",
       "    </tr>\n",
       "    <tr>\n",
       "      <th>3</th>\n",
       "      <td>0</td>\n",
       "      <td>1</td>\n",
       "      <td>0</td>\n",
       "      <td>0</td>\n",
       "      <td>0</td>\n",
       "      <td>0</td>\n",
       "      <td>0</td>\n",
       "      <td>1</td>\n",
       "      <td>2.0</td>\n",
       "      <td>0.04</td>\n",
       "      <td>0.008</td>\n",
       "      <td>12.468750</td>\n",
       "    </tr>\n",
       "    <tr>\n",
       "      <th>4</th>\n",
       "      <td>1</td>\n",
       "      <td>1</td>\n",
       "      <td>0</td>\n",
       "      <td>0</td>\n",
       "      <td>0</td>\n",
       "      <td>0</td>\n",
       "      <td>0</td>\n",
       "      <td>1</td>\n",
       "      <td>15.0</td>\n",
       "      <td>2.25</td>\n",
       "      <td>3.375</td>\n",
       "      <td>18.525000</td>\n",
       "    </tr>\n",
       "  </tbody>\n",
       "</table>\n",
       "</div>"
      ],
      "text/plain": [
       "   female  cg  sc  hsg  mw  so  we  ne  exp1   exp2    exp3       wage\n",
       "0       0   0   0    1   0   0   0   1  33.0  10.89  35.937  11.659091\n",
       "1       0   1   0    0   0   0   0   1  27.0   7.29  19.683  12.825000\n",
       "2       0   0   1    0   0   0   0   1  13.0   1.69   2.197   5.777027\n",
       "3       0   1   0    0   0   0   0   1   2.0   0.04   0.008  12.468750\n",
       "4       1   1   0    0   0   0   0   1  15.0   2.25   3.375  18.525000"
      ]
     },
     "execution_count": 3,
     "metadata": {},
     "output_type": "execute_result"
    }
   ],
   "source": [
    "# See top 5 row in the dataset\n",
    "df.head()"
   ]
  },
  {
   "cell_type": "code",
   "execution_count": 4,
   "metadata": {},
   "outputs": [
    {
     "data": {
      "text/plain": [
       "(3835, 12)"
      ]
     },
     "execution_count": 4,
     "metadata": {},
     "output_type": "execute_result"
    }
   ],
   "source": [
    "# Dimensions of the dataset\n",
    "df.shape"
   ]
  },
  {
   "cell_type": "markdown",
   "metadata": {},
   "source": [
    "- The dataset has 3835 observations and 12 different variables."
   ]
  },
  {
   "cell_type": "code",
   "execution_count": 5,
   "metadata": {},
   "outputs": [
    {
     "data": {
      "text/html": [
       "<div>\n",
       "<style scoped>\n",
       "    .dataframe tbody tr th:only-of-type {\n",
       "        vertical-align: middle;\n",
       "    }\n",
       "\n",
       "    .dataframe tbody tr th {\n",
       "        vertical-align: top;\n",
       "    }\n",
       "\n",
       "    .dataframe thead th {\n",
       "        text-align: right;\n",
       "    }\n",
       "</style>\n",
       "<table border=\"1\" class=\"dataframe\">\n",
       "  <thead>\n",
       "    <tr style=\"text-align: right;\">\n",
       "      <th></th>\n",
       "      <th>female</th>\n",
       "      <th>cg</th>\n",
       "      <th>sc</th>\n",
       "      <th>hsg</th>\n",
       "      <th>mw</th>\n",
       "      <th>so</th>\n",
       "      <th>we</th>\n",
       "      <th>ne</th>\n",
       "      <th>exp1</th>\n",
       "      <th>exp2</th>\n",
       "      <th>exp3</th>\n",
       "      <th>wage</th>\n",
       "    </tr>\n",
       "  </thead>\n",
       "  <tbody>\n",
       "    <tr>\n",
       "      <th>count</th>\n",
       "      <td>3835.000000</td>\n",
       "      <td>3835.000000</td>\n",
       "      <td>3835.000000</td>\n",
       "      <td>3835.00000</td>\n",
       "      <td>3835.000000</td>\n",
       "      <td>3835.000000</td>\n",
       "      <td>3835.000000</td>\n",
       "      <td>3835.000000</td>\n",
       "      <td>3835.000000</td>\n",
       "      <td>3835.000000</td>\n",
       "      <td>3835.000000</td>\n",
       "      <td>3835.000000</td>\n",
       "    </tr>\n",
       "    <tr>\n",
       "      <th>mean</th>\n",
       "      <td>0.417992</td>\n",
       "      <td>0.376271</td>\n",
       "      <td>0.323859</td>\n",
       "      <td>0.29987</td>\n",
       "      <td>0.287614</td>\n",
       "      <td>0.243546</td>\n",
       "      <td>0.211734</td>\n",
       "      <td>0.257106</td>\n",
       "      <td>13.353194</td>\n",
       "      <td>2.529267</td>\n",
       "      <td>5.812103</td>\n",
       "      <td>15.533356</td>\n",
       "    </tr>\n",
       "    <tr>\n",
       "      <th>std</th>\n",
       "      <td>0.493293</td>\n",
       "      <td>0.484513</td>\n",
       "      <td>0.468008</td>\n",
       "      <td>0.45826</td>\n",
       "      <td>0.452709</td>\n",
       "      <td>0.429278</td>\n",
       "      <td>0.408591</td>\n",
       "      <td>0.437095</td>\n",
       "      <td>8.639348</td>\n",
       "      <td>2.910554</td>\n",
       "      <td>9.033207</td>\n",
       "      <td>13.518165</td>\n",
       "    </tr>\n",
       "    <tr>\n",
       "      <th>min</th>\n",
       "      <td>0.000000</td>\n",
       "      <td>0.000000</td>\n",
       "      <td>0.000000</td>\n",
       "      <td>0.00000</td>\n",
       "      <td>0.000000</td>\n",
       "      <td>0.000000</td>\n",
       "      <td>0.000000</td>\n",
       "      <td>0.000000</td>\n",
       "      <td>2.000000</td>\n",
       "      <td>0.040000</td>\n",
       "      <td>0.008000</td>\n",
       "      <td>0.004275</td>\n",
       "    </tr>\n",
       "    <tr>\n",
       "      <th>25%</th>\n",
       "      <td>0.000000</td>\n",
       "      <td>0.000000</td>\n",
       "      <td>0.000000</td>\n",
       "      <td>0.00000</td>\n",
       "      <td>0.000000</td>\n",
       "      <td>0.000000</td>\n",
       "      <td>0.000000</td>\n",
       "      <td>0.000000</td>\n",
       "      <td>6.000000</td>\n",
       "      <td>0.360000</td>\n",
       "      <td>0.216000</td>\n",
       "      <td>9.618750</td>\n",
       "    </tr>\n",
       "    <tr>\n",
       "      <th>50%</th>\n",
       "      <td>0.000000</td>\n",
       "      <td>0.000000</td>\n",
       "      <td>0.000000</td>\n",
       "      <td>0.00000</td>\n",
       "      <td>0.000000</td>\n",
       "      <td>0.000000</td>\n",
       "      <td>0.000000</td>\n",
       "      <td>0.000000</td>\n",
       "      <td>11.000000</td>\n",
       "      <td>1.210000</td>\n",
       "      <td>1.331000</td>\n",
       "      <td>13.028571</td>\n",
       "    </tr>\n",
       "    <tr>\n",
       "      <th>75%</th>\n",
       "      <td>1.000000</td>\n",
       "      <td>1.000000</td>\n",
       "      <td>1.000000</td>\n",
       "      <td>1.00000</td>\n",
       "      <td>1.000000</td>\n",
       "      <td>0.000000</td>\n",
       "      <td>0.000000</td>\n",
       "      <td>1.000000</td>\n",
       "      <td>19.500000</td>\n",
       "      <td>3.802500</td>\n",
       "      <td>7.414875</td>\n",
       "      <td>17.812500</td>\n",
       "    </tr>\n",
       "    <tr>\n",
       "      <th>max</th>\n",
       "      <td>1.000000</td>\n",
       "      <td>1.000000</td>\n",
       "      <td>1.000000</td>\n",
       "      <td>1.00000</td>\n",
       "      <td>1.000000</td>\n",
       "      <td>1.000000</td>\n",
       "      <td>1.000000</td>\n",
       "      <td>1.000000</td>\n",
       "      <td>35.000000</td>\n",
       "      <td>12.250000</td>\n",
       "      <td>42.875000</td>\n",
       "      <td>348.333017</td>\n",
       "    </tr>\n",
       "  </tbody>\n",
       "</table>\n",
       "</div>"
      ],
      "text/plain": [
       "            female           cg           sc         hsg           mw  \\\n",
       "count  3835.000000  3835.000000  3835.000000  3835.00000  3835.000000   \n",
       "mean      0.417992     0.376271     0.323859     0.29987     0.287614   \n",
       "std       0.493293     0.484513     0.468008     0.45826     0.452709   \n",
       "min       0.000000     0.000000     0.000000     0.00000     0.000000   \n",
       "25%       0.000000     0.000000     0.000000     0.00000     0.000000   \n",
       "50%       0.000000     0.000000     0.000000     0.00000     0.000000   \n",
       "75%       1.000000     1.000000     1.000000     1.00000     1.000000   \n",
       "max       1.000000     1.000000     1.000000     1.00000     1.000000   \n",
       "\n",
       "                so           we           ne         exp1         exp2  \\\n",
       "count  3835.000000  3835.000000  3835.000000  3835.000000  3835.000000   \n",
       "mean      0.243546     0.211734     0.257106    13.353194     2.529267   \n",
       "std       0.429278     0.408591     0.437095     8.639348     2.910554   \n",
       "min       0.000000     0.000000     0.000000     2.000000     0.040000   \n",
       "25%       0.000000     0.000000     0.000000     6.000000     0.360000   \n",
       "50%       0.000000     0.000000     0.000000    11.000000     1.210000   \n",
       "75%       0.000000     0.000000     1.000000    19.500000     3.802500   \n",
       "max       1.000000     1.000000     1.000000    35.000000    12.250000   \n",
       "\n",
       "              exp3         wage  \n",
       "count  3835.000000  3835.000000  \n",
       "mean      5.812103    15.533356  \n",
       "std       9.033207    13.518165  \n",
       "min       0.008000     0.004275  \n",
       "25%       0.216000     9.618750  \n",
       "50%       1.331000    13.028571  \n",
       "75%       7.414875    17.812500  \n",
       "max      42.875000   348.333017  "
      ]
     },
     "execution_count": 5,
     "metadata": {},
     "output_type": "execute_result"
    }
   ],
   "source": [
    "# Printing the summary statistics for the dataset\n",
    "df.describe()"
   ]
  },
  {
   "cell_type": "markdown",
   "metadata": {},
   "source": [
    "- The average wage is about 15 dollars per hour while the maximum wage is 348, which is very high.\n",
    "- 42% of workers are women\n",
    "- Average experience is 13 years\n",
    "- 38% are college graduates\n",
    "- 32% have gone to some college, and 30% hold only high school diploma.\n",
    "- You can also see geographical distribution of workers across major geographical regions of the states."
   ]
  },
  {
   "cell_type": "markdown",
   "metadata": {},
   "source": [
    "### Basic Model\n",
    "- X consists of the female indicator (D) and other controls W , which contain a constant, experience, experience squared, experience cubed, education indicators, and regional indicators.\n",
    "- X includes p = 10regressors."
   ]
  },
  {
   "cell_type": "code",
   "execution_count": 6,
   "metadata": {},
   "outputs": [
    {
     "name": "stdout",
     "output_type": "stream",
     "text": [
      "Intercept 4.915401521241428\n"
     ]
    }
   ],
   "source": [
    "####################  Linear and Quadratic specifications ##############################\n",
    "\n",
    "# Wage linear regression\n",
    "from sklearn.linear_model import LinearRegression\n",
    "from sklearn import metrics\n",
    "\n",
    "Y = df['wage'] # target variable\n",
    "X = df[['female' , 'sc', 'cg', 'mw' , 'so' , 'we' , 'exp1' , 'exp2' , 'exp3']] #regressors\n",
    "\n",
    "#defining the model\n",
    "model = LinearRegression()\n",
    "# fit the Linear regression to the regressors and target varibale.\n",
    "results = model.fit(X,Y) # train the model\n",
    "\n",
    "print(\"Intercept\",results.intercept_) # beta_0"
   ]
  },
  {
   "cell_type": "code",
   "execution_count": 7,
   "metadata": {
    "scrolled": true
   },
   "outputs": [
    {
     "data": {
      "text/html": [
       "<div>\n",
       "<style scoped>\n",
       "    .dataframe tbody tr th:only-of-type {\n",
       "        vertical-align: middle;\n",
       "    }\n",
       "\n",
       "    .dataframe tbody tr th {\n",
       "        vertical-align: top;\n",
       "    }\n",
       "\n",
       "    .dataframe thead th {\n",
       "        text-align: right;\n",
       "    }\n",
       "</style>\n",
       "<table border=\"1\" class=\"dataframe\">\n",
       "  <thead>\n",
       "    <tr style=\"text-align: right;\">\n",
       "      <th></th>\n",
       "      <th>female</th>\n",
       "      <th>sc</th>\n",
       "      <th>cg</th>\n",
       "      <th>mw</th>\n",
       "      <th>so</th>\n",
       "      <th>we</th>\n",
       "      <th>exp1</th>\n",
       "      <th>exp2</th>\n",
       "      <th>exp3</th>\n",
       "    </tr>\n",
       "  </thead>\n",
       "  <tbody>\n",
       "    <tr>\n",
       "      <th>0</th>\n",
       "      <td>-1.826397</td>\n",
       "      <td>2.486523</td>\n",
       "      <td>9.870806</td>\n",
       "      <td>-1.214237</td>\n",
       "      <td>0.404601</td>\n",
       "      <td>-0.250799</td>\n",
       "      <td>1.096456</td>\n",
       "      <td>-4.013388</td>\n",
       "      <td>0.460337</td>\n",
       "    </tr>\n",
       "  </tbody>\n",
       "</table>\n",
       "</div>"
      ],
      "text/plain": [
       "     female        sc        cg        mw        so        we      exp1  \\\n",
       "0 -1.826397  2.486523  9.870806 -1.214237  0.404601 -0.250799  1.096456   \n",
       "\n",
       "       exp2      exp3  \n",
       "0 -4.013388  0.460337  "
      ]
     },
     "execution_count": 7,
     "metadata": {},
     "output_type": "execute_result"
    }
   ],
   "source": [
    "#coefficients of other regressors\n",
    "pd.DataFrame(results.coef_.reshape(1,-1),columns=X.columns) "
   ]
  },
  {
   "cell_type": "markdown",
   "metadata": {},
   "source": [
    "- We can see that cg graduate have high coefficient which signifies that graduated people are getting high wages.\n",
    "- On the other hand exp2 has a negative coefficient which means with exp2 the wages are less. \n",
    "- Coefficient of the female indicator is negative, signifies that females are getting lower wages. "
   ]
  },
  {
   "cell_type": "code",
   "execution_count": 8,
   "metadata": {},
   "outputs": [
    {
     "name": "stdout",
     "output_type": "stream",
     "text": [
      "R-squared 0.0954880031243256\n",
      "MSE adj: 165.6801552431276\n"
     ]
    }
   ],
   "source": [
    "# compute MSE and R^2\n",
    "y_pred = results.predict(X) # predictions on same data\n",
    "print(\"R-squared\",metrics.r2_score(Y,y_pred)) # r-squared\n",
    "MSE_adj2 =  (3835/(3835-10)) * np.mean(np.square(Y-y_pred))\n",
    "print(\"MSE adj:\",MSE_adj2) #MSE"
   ]
  },
  {
   "cell_type": "markdown",
   "metadata": {},
   "source": [
    "- Model performance is very poor as the r squared is very low. "
   ]
  },
  {
   "cell_type": "code",
   "execution_count": 9,
   "metadata": {},
   "outputs": [
    {
     "name": "stdout",
     "output_type": "stream",
     "text": [
      "Adj Rsquared: 0.09335973647058826\n"
     ]
    }
   ],
   "source": [
    "adj_rsquared = 1 - ((1-0.095488)*(3835-1)/(3835-9-1))\n",
    "print(\"Adj Rsquared:\",adj_rsquared)# adjusted r-squared"
   ]
  },
  {
   "cell_type": "markdown",
   "metadata": {},
   "source": [
    "### Flexible model\n",
    "- X consists of D as well as W , which contains all of the components of W in the basic model plus their two-way interactions.\n",
    "\n",
    "- Two way interaction means, two variables are multiples to each other so that we can capture the combined effect of the interaction of the 2 variables in the model. \n",
    "\n",
    "- After creating interaction features, X includes p = 33 regressors."
   ]
  },
  {
   "cell_type": "code",
   "execution_count": 10,
   "metadata": {},
   "outputs": [
    {
     "name": "stdout",
     "output_type": "stream",
     "text": [
      "Intercept 16.552407194298603\n"
     ]
    }
   ],
   "source": [
    "# Linear regression: Quadratic specification\n",
    "\n",
    "from sklearn.preprocessing import PolynomialFeatures\n",
    "\n",
    "X.drop('female',axis = 1,inplace = True)\n",
    "poly = PolynomialFeatures(interaction_only=True,include_bias=False)\n",
    "X_poly = poly.fit_transform(X) # creating polynomial features with degree = 2(Quadratic)\n",
    "\n",
    "X_poly = pd.DataFrame(X_poly,columns= poly.get_feature_names(X.columns))\n",
    "\n",
    "X_poly['female'] = df['female']\n",
    "X['female'] = df['female']\n",
    "\n",
    "# train the model\n",
    "results = model.fit(X_poly,Y) \n",
    "\n",
    "# beta_0\n",
    "print(\"Intercept\",results.intercept_) "
   ]
  },
  {
   "cell_type": "code",
   "execution_count": 11,
   "metadata": {
    "scrolled": false
   },
   "outputs": [
    {
     "data": {
      "text/html": [
       "<div>\n",
       "<style scoped>\n",
       "    .dataframe tbody tr th:only-of-type {\n",
       "        vertical-align: middle;\n",
       "    }\n",
       "\n",
       "    .dataframe tbody tr th {\n",
       "        vertical-align: top;\n",
       "    }\n",
       "\n",
       "    .dataframe thead th {\n",
       "        text-align: right;\n",
       "    }\n",
       "</style>\n",
       "<table border=\"1\" class=\"dataframe\">\n",
       "  <thead>\n",
       "    <tr style=\"text-align: right;\">\n",
       "      <th></th>\n",
       "      <th>0</th>\n",
       "    </tr>\n",
       "  </thead>\n",
       "  <tbody>\n",
       "    <tr>\n",
       "      <th>sc</th>\n",
       "      <td>-2.386526e+00</td>\n",
       "    </tr>\n",
       "    <tr>\n",
       "      <th>cg</th>\n",
       "      <td>2.240488e+00</td>\n",
       "    </tr>\n",
       "    <tr>\n",
       "      <th>mw</th>\n",
       "      <td>-5.519395e+00</td>\n",
       "    </tr>\n",
       "    <tr>\n",
       "      <th>so</th>\n",
       "      <td>-2.914391e+00</td>\n",
       "    </tr>\n",
       "    <tr>\n",
       "      <th>we</th>\n",
       "      <td>-8.053925e-01</td>\n",
       "    </tr>\n",
       "    <tr>\n",
       "      <th>exp1</th>\n",
       "      <td>-1.321456e+00</td>\n",
       "    </tr>\n",
       "    <tr>\n",
       "      <th>exp2</th>\n",
       "      <td>1.252185e+01</td>\n",
       "    </tr>\n",
       "    <tr>\n",
       "      <th>exp3</th>\n",
       "      <td>-4.838676e-02</td>\n",
       "    </tr>\n",
       "    <tr>\n",
       "      <th>sc cg</th>\n",
       "      <td>1.388889e-13</td>\n",
       "    </tr>\n",
       "    <tr>\n",
       "      <th>sc mw</th>\n",
       "      <td>-7.225602e-01</td>\n",
       "    </tr>\n",
       "    <tr>\n",
       "      <th>sc so</th>\n",
       "      <td>-6.512599e-01</td>\n",
       "    </tr>\n",
       "    <tr>\n",
       "      <th>sc we</th>\n",
       "      <td>-1.046514e-01</td>\n",
       "    </tr>\n",
       "    <tr>\n",
       "      <th>sc exp1</th>\n",
       "      <td>8.390751e-01</td>\n",
       "    </tr>\n",
       "    <tr>\n",
       "      <th>sc exp2</th>\n",
       "      <td>-4.060847e+00</td>\n",
       "    </tr>\n",
       "    <tr>\n",
       "      <th>sc exp3</th>\n",
       "      <td>6.330261e-01</td>\n",
       "    </tr>\n",
       "    <tr>\n",
       "      <th>cg mw</th>\n",
       "      <td>-7.609079e-01</td>\n",
       "    </tr>\n",
       "    <tr>\n",
       "      <th>cg so</th>\n",
       "      <td>1.704052e+00</td>\n",
       "    </tr>\n",
       "    <tr>\n",
       "      <th>cg we</th>\n",
       "      <td>-1.494761e+00</td>\n",
       "    </tr>\n",
       "    <tr>\n",
       "      <th>cg exp1</th>\n",
       "      <td>7.858795e-01</td>\n",
       "    </tr>\n",
       "    <tr>\n",
       "      <th>cg exp2</th>\n",
       "      <td>-4.897043e-02</td>\n",
       "    </tr>\n",
       "    <tr>\n",
       "      <th>cg exp3</th>\n",
       "      <td>-5.950344e-01</td>\n",
       "    </tr>\n",
       "    <tr>\n",
       "      <th>mw so</th>\n",
       "      <td>1.332268e-15</td>\n",
       "    </tr>\n",
       "    <tr>\n",
       "      <th>mw we</th>\n",
       "      <td>5.329071e-15</td>\n",
       "    </tr>\n",
       "    <tr>\n",
       "      <th>mw exp1</th>\n",
       "      <td>1.107607e+00</td>\n",
       "    </tr>\n",
       "    <tr>\n",
       "      <th>mw exp2</th>\n",
       "      <td>-6.052683e+00</td>\n",
       "    </tr>\n",
       "    <tr>\n",
       "      <th>mw exp3</th>\n",
       "      <td>9.062626e-01</td>\n",
       "    </tr>\n",
       "    <tr>\n",
       "      <th>so we</th>\n",
       "      <td>-4.440892e-15</td>\n",
       "    </tr>\n",
       "    <tr>\n",
       "      <th>so exp1</th>\n",
       "      <td>3.947042e-01</td>\n",
       "    </tr>\n",
       "    <tr>\n",
       "      <th>so exp2</th>\n",
       "      <td>-8.913739e-01</td>\n",
       "    </tr>\n",
       "    <tr>\n",
       "      <th>so exp3</th>\n",
       "      <td>-3.515656e-02</td>\n",
       "    </tr>\n",
       "    <tr>\n",
       "      <th>we exp1</th>\n",
       "      <td>4.719171e-01</td>\n",
       "    </tr>\n",
       "    <tr>\n",
       "      <th>we exp2</th>\n",
       "      <td>-3.918829e+00</td>\n",
       "    </tr>\n",
       "    <tr>\n",
       "      <th>we exp3</th>\n",
       "      <td>8.050007e-01</td>\n",
       "    </tr>\n",
       "    <tr>\n",
       "      <th>exp1 exp2</th>\n",
       "      <td>-4.838676e-01</td>\n",
       "    </tr>\n",
       "    <tr>\n",
       "      <th>exp1 exp3</th>\n",
       "      <td>8.720600e-02</td>\n",
       "    </tr>\n",
       "    <tr>\n",
       "      <th>exp2 exp3</th>\n",
       "      <td>-5.798236e-02</td>\n",
       "    </tr>\n",
       "    <tr>\n",
       "      <th>female</th>\n",
       "      <td>-1.880013e+00</td>\n",
       "    </tr>\n",
       "  </tbody>\n",
       "</table>\n",
       "</div>"
      ],
      "text/plain": [
       "                      0\n",
       "sc        -2.386526e+00\n",
       "cg         2.240488e+00\n",
       "mw        -5.519395e+00\n",
       "so        -2.914391e+00\n",
       "we        -8.053925e-01\n",
       "exp1      -1.321456e+00\n",
       "exp2       1.252185e+01\n",
       "exp3      -4.838676e-02\n",
       "sc cg      1.388889e-13\n",
       "sc mw     -7.225602e-01\n",
       "sc so     -6.512599e-01\n",
       "sc we     -1.046514e-01\n",
       "sc exp1    8.390751e-01\n",
       "sc exp2   -4.060847e+00\n",
       "sc exp3    6.330261e-01\n",
       "cg mw     -7.609079e-01\n",
       "cg so      1.704052e+00\n",
       "cg we     -1.494761e+00\n",
       "cg exp1    7.858795e-01\n",
       "cg exp2   -4.897043e-02\n",
       "cg exp3   -5.950344e-01\n",
       "mw so      1.332268e-15\n",
       "mw we      5.329071e-15\n",
       "mw exp1    1.107607e+00\n",
       "mw exp2   -6.052683e+00\n",
       "mw exp3    9.062626e-01\n",
       "so we     -4.440892e-15\n",
       "so exp1    3.947042e-01\n",
       "so exp2   -8.913739e-01\n",
       "so exp3   -3.515656e-02\n",
       "we exp1    4.719171e-01\n",
       "we exp2   -3.918829e+00\n",
       "we exp3    8.050007e-01\n",
       "exp1 exp2 -4.838676e-01\n",
       "exp1 exp3  8.720600e-02\n",
       "exp2 exp3 -5.798236e-02\n",
       "female    -1.880013e+00"
      ]
     },
     "execution_count": 11,
     "metadata": {},
     "output_type": "execute_result"
    }
   ],
   "source": [
    "pd.DataFrame(results.coef_.reshape(1,-1),columns=X_poly.columns).T# printing the co-efficients in a tabular format"
   ]
  },
  {
   "cell_type": "markdown",
   "metadata": {},
   "source": [
    "- Coefficient of cg*exp is quite high, represents Experience variable times the indicator of having a college degree will have a high wage,or people with good education and good experience are paid good.\n",
    "- coefficient of cg*mw is negative, implies College graduate from mid west are not getting paid good, which is not a good sign as for the people living in mid west as from the basic model we know that the college graduates are getting paid good."
   ]
  },
  {
   "cell_type": "code",
   "execution_count": 12,
   "metadata": {},
   "outputs": [
    {
     "name": "stdout",
     "output_type": "stream",
     "text": [
      "R-squared 0.10397282164398391\n",
      "MSE adj: 165.1188560892233\n"
     ]
    }
   ],
   "source": [
    "# compute MSE and R^2\n",
    "y_pred = results.predict(X_poly)\n",
    "print(\"R-squared\",metrics.r2_score(Y,y_pred))\n",
    "MSE_adj2 =  (3835/(3835-33)) * np.mean(np.square(Y-y_pred))\n",
    "print(\"MSE adj:\",MSE_adj2) #MSE"
   ]
  },
  {
   "cell_type": "markdown",
   "metadata": {},
   "source": [
    "- Model performance as improved slightly as compared to basic model but r- squared still very less."
   ]
  },
  {
   "cell_type": "code",
   "execution_count": 13,
   "metadata": {},
   "outputs": [
    {
     "data": {
      "text/plain": [
       "0.09642845344555506"
      ]
     },
     "execution_count": 13,
     "metadata": {},
     "output_type": "execute_result"
    }
   ],
   "source": [
    "adj_rsquared = 1 - ((1-0.10397)*(3835-1)/(3835-32-1))\n",
    "adj_rsquared"
   ]
  },
  {
   "cell_type": "markdown",
   "metadata": {},
   "source": [
    "- We considered two predictive models, basic and flexible.\n",
    "- In the basic model, regressors X consist of the female indicator D and other controls W , which include a constant, experience, experience squared, experience cubed, education and regional indicators. The basic model has 10 regressors in total."
   ]
  },
  {
   "cell_type": "markdown",
   "metadata": {},
   "source": [
    "Given that p/n is quite small here, the sample linear regression should approximate the population linear regression quite well."
   ]
  },
  {
   "cell_type": "markdown",
   "metadata": {},
   "source": [
    "|| p | R-squared_sample | R-squared_adj | MSE_adj |\n",
    "| --- | --- | --- | --- | --- |\n",
    "| basic reg | 10 | 0.0954 | 0.0933 | 165.680 |\n",
    "| flexi reg | 33 | 0.1039 | 0.0964 | 165.118 |\n",
    "\n",
    "We conclude that the performance of the basic and flexible model are about the same, with the flexible model being just slightly better (slightly higher R2 lower MSE)."
   ]
  },
  {
   "cell_type": "markdown",
   "metadata": {},
   "source": [
    "### Basic Model on splitted data"
   ]
  },
  {
   "cell_type": "code",
   "execution_count": 14,
   "metadata": {},
   "outputs": [
    {
     "name": "stdout",
     "output_type": "stream",
     "text": [
      "Intercept 4.1846159141737935\n"
     ]
    }
   ],
   "source": [
    "####################  Linear and Quadratic specifications with Sample Splitting ##############################\n",
    "\n",
    "from sklearn.model_selection import train_test_split #using this we split the data into train and test in python.\n",
    "\n",
    "\n",
    "#Split without the function train_test_split\n",
    "X_train = X.iloc[:1918,:]\n",
    "X_test = X.iloc[1918:,:]\n",
    "Y_train = Y.iloc[:1918]\n",
    "Y_test = Y.iloc[1918:]\n",
    "\n",
    "\n",
    "#Split using the function train_test_split\n",
    "# X_train,X_test,Y_train,Y_test = train_test_split(X,Y,test_size=0.5,random_state=101) # splitting data into train and test\n",
    "\n",
    "\n",
    "results = model.fit(X_train,Y_train)\n",
    "print(\"Intercept\",results.intercept_)"
   ]
  },
  {
   "cell_type": "code",
   "execution_count": 15,
   "metadata": {
    "scrolled": true
   },
   "outputs": [
    {
     "data": {
      "text/html": [
       "<div>\n",
       "<style scoped>\n",
       "    .dataframe tbody tr th:only-of-type {\n",
       "        vertical-align: middle;\n",
       "    }\n",
       "\n",
       "    .dataframe tbody tr th {\n",
       "        vertical-align: top;\n",
       "    }\n",
       "\n",
       "    .dataframe thead th {\n",
       "        text-align: right;\n",
       "    }\n",
       "</style>\n",
       "<table border=\"1\" class=\"dataframe\">\n",
       "  <thead>\n",
       "    <tr style=\"text-align: right;\">\n",
       "      <th></th>\n",
       "      <th>sc</th>\n",
       "      <th>cg</th>\n",
       "      <th>mw</th>\n",
       "      <th>so</th>\n",
       "      <th>we</th>\n",
       "      <th>exp1</th>\n",
       "      <th>exp2</th>\n",
       "      <th>exp3</th>\n",
       "      <th>female</th>\n",
       "    </tr>\n",
       "  </thead>\n",
       "  <tbody>\n",
       "    <tr>\n",
       "      <th>0</th>\n",
       "      <td>2.38791</td>\n",
       "      <td>10.007581</td>\n",
       "      <td>-0.939453</td>\n",
       "      <td>3.552714e-15</td>\n",
       "      <td>8.881784e-16</td>\n",
       "      <td>1.241326</td>\n",
       "      <td>-4.767478</td>\n",
       "      <td>0.566172</td>\n",
       "      <td>-1.654739</td>\n",
       "    </tr>\n",
       "  </tbody>\n",
       "</table>\n",
       "</div>"
      ],
      "text/plain": [
       "        sc         cg        mw            so            we      exp1  \\\n",
       "0  2.38791  10.007581 -0.939453  3.552714e-15  8.881784e-16  1.241326   \n",
       "\n",
       "       exp2      exp3    female  \n",
       "0 -4.767478  0.566172 -1.654739  "
      ]
     },
     "execution_count": 15,
     "metadata": {},
     "output_type": "execute_result"
    }
   ],
   "source": [
    "pd.DataFrame(results.coef_.reshape(1,-1),columns=X.columns)"
   ]
  },
  {
   "cell_type": "code",
   "execution_count": 16,
   "metadata": {},
   "outputs": [
    {
     "name": "stdout",
     "output_type": "stream",
     "text": [
      "R-squared 0.10272836637029847\n",
      "MSE 154.5836929050885\n"
     ]
    }
   ],
   "source": [
    "y_pred = results.predict(X_test) # predit y values on test data\n",
    "print(\"R-squared\",metrics.r2_score(Y_test,y_pred)) # r-squared\n",
    "print(\"MSE\",metrics.mean_squared_error(Y_test,y_pred))# MSE"
   ]
  },
  {
   "cell_type": "markdown",
   "metadata": {},
   "source": [
    "### Flexible model on splitted data"
   ]
  },
  {
   "cell_type": "code",
   "execution_count": 17,
   "metadata": {},
   "outputs": [
    {
     "name": "stdout",
     "output_type": "stream",
     "text": [
      "Intercept 12.364122069223091\n"
     ]
    }
   ],
   "source": [
    "# Linear regression: Quadratic specification\n",
    "X_train = X_poly.iloc[:1918,:]\n",
    "X_test = X_poly.iloc[1918:,:]\n",
    "Y_train = Y.iloc[:1918]\n",
    "Y_test = Y.iloc[1918:]\n",
    "# X_train,X_test,Y_train,Y_test = train_test_split(X_poly,Y,test_size=0.5,random_state=101)\n",
    "results = model.fit(X_train,Y_train)\n",
    "print(\"Intercept\",results.intercept_)"
   ]
  },
  {
   "cell_type": "code",
   "execution_count": 18,
   "metadata": {
    "scrolled": false
   },
   "outputs": [
    {
     "data": {
      "text/html": [
       "<div>\n",
       "<style scoped>\n",
       "    .dataframe tbody tr th:only-of-type {\n",
       "        vertical-align: middle;\n",
       "    }\n",
       "\n",
       "    .dataframe tbody tr th {\n",
       "        vertical-align: top;\n",
       "    }\n",
       "\n",
       "    .dataframe thead th {\n",
       "        text-align: right;\n",
       "    }\n",
       "</style>\n",
       "<table border=\"1\" class=\"dataframe\">\n",
       "  <thead>\n",
       "    <tr style=\"text-align: right;\">\n",
       "      <th></th>\n",
       "      <th>sc</th>\n",
       "      <th>cg</th>\n",
       "      <th>mw</th>\n",
       "      <th>so</th>\n",
       "      <th>we</th>\n",
       "      <th>exp1</th>\n",
       "      <th>exp2</th>\n",
       "      <th>exp3</th>\n",
       "      <th>sc cg</th>\n",
       "      <th>sc mw</th>\n",
       "      <th>...</th>\n",
       "      <th>so exp1</th>\n",
       "      <th>so exp2</th>\n",
       "      <th>so exp3</th>\n",
       "      <th>we exp1</th>\n",
       "      <th>we exp2</th>\n",
       "      <th>we exp3</th>\n",
       "      <th>exp1 exp2</th>\n",
       "      <th>exp1 exp3</th>\n",
       "      <th>exp2 exp3</th>\n",
       "      <th>female</th>\n",
       "    </tr>\n",
       "  </thead>\n",
       "  <tbody>\n",
       "    <tr>\n",
       "      <th>0</th>\n",
       "      <td>2.333983</td>\n",
       "      <td>6.482857</td>\n",
       "      <td>-6.643465</td>\n",
       "      <td>2.236655e-12</td>\n",
       "      <td>-7.736034e-12</td>\n",
       "      <td>-0.913686</td>\n",
       "      <td>16.083399</td>\n",
       "      <td>-0.104036</td>\n",
       "      <td>8.202328e-13</td>\n",
       "      <td>-0.99051</td>\n",
       "      <td>...</td>\n",
       "      <td>0.0</td>\n",
       "      <td>0.0</td>\n",
       "      <td>0.0</td>\n",
       "      <td>0.0</td>\n",
       "      <td>0.0</td>\n",
       "      <td>0.0</td>\n",
       "      <td>-1.040364</td>\n",
       "      <td>0.314212</td>\n",
       "      <td>-0.351953</td>\n",
       "      <td>-1.751726</td>\n",
       "    </tr>\n",
       "  </tbody>\n",
       "</table>\n",
       "<p>1 rows × 37 columns</p>\n",
       "</div>"
      ],
      "text/plain": [
       "         sc        cg        mw            so            we      exp1  \\\n",
       "0  2.333983  6.482857 -6.643465  2.236655e-12 -7.736034e-12 -0.913686   \n",
       "\n",
       "        exp2      exp3         sc cg    sc mw  ...  so exp1  so exp2  so exp3  \\\n",
       "0  16.083399 -0.104036  8.202328e-13 -0.99051  ...      0.0      0.0      0.0   \n",
       "\n",
       "   we exp1  we exp2  we exp3  exp1 exp2  exp1 exp3  exp2 exp3    female  \n",
       "0      0.0      0.0      0.0  -1.040364   0.314212  -0.351953 -1.751726  \n",
       "\n",
       "[1 rows x 37 columns]"
      ]
     },
     "execution_count": 18,
     "metadata": {},
     "output_type": "execute_result"
    }
   ],
   "source": [
    "pd.DataFrame(results.coef_.reshape(1,-1),columns=X_poly.columns)"
   ]
  },
  {
   "cell_type": "code",
   "execution_count": 19,
   "metadata": {},
   "outputs": [
    {
     "name": "stdout",
     "output_type": "stream",
     "text": [
      "R-squared 0.10460461287646916\n",
      "MSE 154.26044952721546\n"
     ]
    }
   ],
   "source": [
    "y_pred = results.predict(X_test)\n",
    "print(\"R-squared\",metrics.r2_score(Y_test,y_pred))\n",
    "print(\"MSE\",metrics.mean_squared_error(Y_test,y_pred))"
   ]
  },
  {
   "cell_type": "markdown",
   "metadata": {},
   "source": [
    "### Conclusion and recommendations\n",
    "\n",
    "|| p | R-squared_test | MSE_test |\n",
    "| --- | --- | --- | --- |\n",
    "| basic reg | 10 | 0.1027 | 154.584 |\n",
    "| flexi reg | 33 | 0.1046 | 154.260 |\n",
    "\n",
    "- Here we report results for one random split of the data in 2 halves, and see that the flexible rule works just slightly better, Note that these numbers vary across different data splits, so we can average results over several data splits.\n",
    "- College graduates and the people with good work experience are getting good wages as compared to people with low education background and low work experience.\n",
    "- People living in the south and mid west region are not getting proper wages."
   ]
  }
 ],
 "metadata": {
  "kernelspec": {
   "display_name": "Python 3",
   "language": "python",
   "name": "python3"
  },
  "language_info": {
   "codemirror_mode": {
    "name": "ipython",
    "version": 3
   },
   "file_extension": ".py",
   "mimetype": "text/x-python",
   "name": "python",
   "nbconvert_exporter": "python",
   "pygments_lexer": "ipython3",
   "version": "3.8.8"
  }
 },
 "nbformat": 4,
 "nbformat_minor": 4
}
